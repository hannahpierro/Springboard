{
 "cells": [
  {
   "cell_type": "markdown",
   "metadata": {},
   "source": [
    "This exercise will require you to pull some data from the Qunadl API. Qaundl is currently the most widely used aggregator of financial market data."
   ]
  },
  {
   "cell_type": "markdown",
   "metadata": {},
   "source": [
    "As a first step, you will need to register a free account on the http://www.quandl.com website."
   ]
  },
  {
   "cell_type": "markdown",
   "metadata": {},
   "source": [
    "After you register, you will be provided with a unique API key, that you should store:"
   ]
  },
  {
   "cell_type": "code",
   "execution_count": 1,
   "metadata": {},
   "outputs": [],
   "source": [
    "# Store the API key as a string - according to PEP8, constants are always named in all upper case\n",
    "API_KEY = 'xxxx'"
   ]
  },
  {
   "cell_type": "markdown",
   "metadata": {},
   "source": [
    "Qaundl has a large number of data sources, but, unfortunately, most of them require a Premium subscription. Still, there are also a good number of free datasets."
   ]
  },
  {
   "cell_type": "markdown",
   "metadata": {},
   "source": [
    "For this mini project, we will focus on equities data from the Frankfurt Stock Exhange (FSE), which is available for free. We'll try and analyze the stock prices of a company called Carl Zeiss Meditec, which manufactures tools for eye examinations, as well as medical lasers for laser eye surgery: https://www.zeiss.com/meditec/int/home.html. The company is listed under the stock ticker AFX_X."
   ]
  },
  {
   "cell_type": "markdown",
   "metadata": {},
   "source": [
    "You can find the detailed Quandl API instructions here: https://docs.quandl.com/docs/time-series"
   ]
  },
  {
   "cell_type": "markdown",
   "metadata": {},
   "source": [
    "While there is a dedicated Python package for connecting to the Quandl API, we would prefer that you use the *requests* package, which can be easily downloaded using *pip* or *conda*. You can find the documentation for the package here: http://docs.python-requests.org/en/master/ "
   ]
  },
  {
   "cell_type": "markdown",
   "metadata": {},
   "source": [
    "Finally, apart from the *requests* package, you are encouraged to not use any third party Python packages, such as *pandas*, and instead focus on what's available in the Python Standard Library (the *collections* module might come in handy: https://pymotw.com/3/collections/ ).\n",
    "Also, since you won't have access to DataFrames, you are encouraged to us Python's native data structures - preferably dictionaries, though some questions can also be answered using lists.\n",
    "You can read more on these data structures here: https://docs.python.org/3/tutorial/datastructures.html"
   ]
  },
  {
   "cell_type": "markdown",
   "metadata": {},
   "source": [
    "Keep in mind that the JSON responses you will be getting from the API map almost one-to-one to Python's dictionaries. Unfortunately, they can be very nested, so make sure you read up on indexing dictionaries in the documentation provided above."
   ]
  },
  {
   "cell_type": "code",
   "execution_count": 2,
   "metadata": {},
   "outputs": [],
   "source": [
    "# First, import the relevant modules\n",
    "import requests\n",
    "import json\n",
    "from datetime import datetime\n",
    "import math"
   ]
  },
  {
   "cell_type": "code",
   "execution_count": 3,
   "metadata": {},
   "outputs": [],
   "source": [
    "# Now, call the Quandl API and pull out a small sample of the data (only one day) to get a glimpse\n",
    "# into the JSON structure that will be returned\n",
    "\n",
    "url1 = 'https://www.quandl.com/api/v3/datasets/FSE/AFX_X.json?start_date=2017-1-1&end_date=2017-1-2&api_key=xxxx'\n",
    "r1 = requests.get(url1)\n",
    "json_data1 = r1.json()\n"
   ]
  },
  {
   "cell_type": "code",
   "execution_count": 4,
   "metadata": {},
   "outputs": [
    {
     "data": {
      "text/plain": [
       "{'dataset': {'id': 10095370,\n",
       "  'dataset_code': 'AFX_X',\n",
       "  'database_code': 'FSE',\n",
       "  'name': 'Carl Zeiss Meditec (AFX_X)',\n",
       "  'description': 'Stock Prices for Carl Zeiss Meditec (2020-11-02) from the Frankfurt Stock Exchange.<br><br>Trading System: Xetra<br><br>ISIN: DE0005313704',\n",
       "  'refreshed_at': '2020-12-01T14:48:09.907Z',\n",
       "  'newest_available_date': '2020-12-01',\n",
       "  'oldest_available_date': '2000-06-07',\n",
       "  'column_names': ['Date',\n",
       "   'Open',\n",
       "   'High',\n",
       "   'Low',\n",
       "   'Close',\n",
       "   'Change',\n",
       "   'Traded Volume',\n",
       "   'Turnover',\n",
       "   'Last Price of the Day',\n",
       "   'Daily Traded Units',\n",
       "   'Daily Turnover'],\n",
       "  'frequency': 'daily',\n",
       "  'type': 'Time Series',\n",
       "  'premium': False,\n",
       "  'limit': None,\n",
       "  'transform': None,\n",
       "  'column_index': None,\n",
       "  'start_date': '2017-01-01',\n",
       "  'end_date': '2017-01-02',\n",
       "  'data': [['2017-01-02',\n",
       "    34.99,\n",
       "    35.94,\n",
       "    34.99,\n",
       "    35.8,\n",
       "    None,\n",
       "    44700.0,\n",
       "    1590561.0,\n",
       "    None,\n",
       "    None,\n",
       "    None]],\n",
       "  'collapse': None,\n",
       "  'order': None,\n",
       "  'database_id': 6129}}"
      ]
     },
     "execution_count": 4,
     "metadata": {},
     "output_type": "execute_result"
    }
   ],
   "source": [
    "# Inspect the JSON structure of the object you created, and take note of how nested it is,\n",
    "# as well as the overall structure\n",
    "\n",
    "#json_data1['dataset']\n",
    "json_data1"
   ]
  },
  {
   "cell_type": "markdown",
   "metadata": {},
   "source": [
    "These are your tasks for this mini project:\n",
    "\n",
    "1. Collect data from the Franfurt Stock Exchange, for the ticker AFX_X, for the whole year 2017 (keep in mind that the date format is YYYY-MM-DD).\n",
    "2. Convert the returned JSON object into a Python dictionary.\n",
    "3. Calculate what the highest and lowest opening prices were for the stock in this period.\n",
    "4. What was the largest change in any one day (based on High and Low price)?\n",
    "5. What was the largest change between any two days (based on Closing Price)?\n",
    "6. What was the average daily trading volume during this year?\n",
    "7. (Optional) What was the median trading volume during this year. (Note: you may need to implement your own function for calculating the median.)"
   ]
  },
  {
   "cell_type": "code",
   "execution_count": 5,
   "metadata": {},
   "outputs": [
    {
     "data": {
      "text/plain": [
       "255"
      ]
     },
     "execution_count": 5,
     "metadata": {},
     "output_type": "execute_result"
    }
   ],
   "source": [
    "# 1. Collect data from the Franfurt Stock Exchange, for the ticker AFX_X, for the whole year 2017\n",
    "\n",
    "url = 'https://www.quandl.com/api/v3/datasets/FSE/AFX_X.json?start_date=2017-1-1&end_date=2017-12-31&api_key=xxxx'\n",
    "r = requests.get(url)\n",
    "json_data = r.json()\n",
    "\n",
    "# Capture relevent data\n",
    "data_list=json_data['dataset']['data']\n",
    "len(data_list)"
   ]
  },
  {
   "cell_type": "code",
   "execution_count": 6,
   "metadata": {},
   "outputs": [],
   "source": [
    "# 2. Convert the returned JSON object into a Python dictionary.\n",
    "\n",
    "# Create an empty dictionary with the dates as keys \n",
    "afx_x_2017 = {}\n",
    "\n",
    "# Fill the dictionary with \n",
    "for x in data_list:\n",
    "    afx_x_2017[x[0]]=x\n",
    "\n"
   ]
  },
  {
   "cell_type": "code",
   "execution_count": 7,
   "metadata": {},
   "outputs": [],
   "source": [
    "# 3. Calculate what the highest and lowest opening prices were for the stock in this period.\n",
    "# 4. What was the largest change in any one day (based on High and Low price)?\n",
    "# 5. What was the largest change between any two days (based on Closing Price)?\n",
    "# 6. What was the average daily trading volume during this year?\n",
    "\n",
    "# Create variables to use in the forloop\n",
    "\n",
    "highest_opening_value = afx_x_2017['2017-12-29'][1]\n",
    "highest_opening_date = afx_x_2017['2017-12-29'][0]\n",
    "\n",
    "lowest_opening_value = afx_x_2017['2017-12-29'][1]\n",
    "lowest_opening_date = afx_x_2017['2017-12-29'][0]\n",
    "\n",
    "biggest_daily_delta_value = 0\n",
    "biggest_daily_delta_date = afx_x_2017['2017-12-29'][0]\n",
    "\n",
    "biggest_closeing_delta_value = 0\n",
    "biggest_closeing_delta_date = afx_x_2017['2017-12-29'][0]\n",
    "\n",
    "highest_closing_value = afx_x_2017['2017-12-29'][4]\n",
    "lowest_closing_value = afx_x_2017['2017-12-29'][4]\n",
    "\n",
    "total_trading_volume = 0\n",
    "total_days = 0\n",
    "just_volume = []\n"
   ]
  },
  {
   "cell_type": "code",
   "execution_count": 8,
   "metadata": {},
   "outputs": [],
   "source": [
    "# Loop through the dictionary \n",
    "\n",
    "for x in afx_x_2017:\n",
    "    # Find the highest and lowest opening value for Task 3\n",
    "    if afx_x_2017[x][1] != None:\n",
    "        if afx_x_2017[x][1] > highest_opening_value:\n",
    "            highest_opening_value = afx_x_2017[x][1]\n",
    "            highest_opening_date = afx_x_2017[x][0]\n",
    "    \n",
    "        if afx_x_2017[x][1] < lowest_opening_value:\n",
    "            lowest_opening_value = afx_x_2017[x][1]\n",
    "            lowest_opening_date = afx_x_2017[x][0]\n",
    "\n",
    "    # Find the largest change in one day for Task 4\n",
    "    if afx_x_2017[x][2] != None and afx_x_2017[x][3] != None:\n",
    "        if abs(afx_x_2017[x][2] - afx_x_2017[x][3]) > biggest_daily_delta_value:\n",
    "            biggest_daily_delta_value = abs(afx_x_2017[x][2] - afx_x_2017[x][3])\n",
    "            biggest_daily_delta_date = afx_x_2017[x][0]\n",
    "            \n",
    "    # Find the lowest and highest closing values for Task 5\n",
    "    if afx_x_2017[x][4] != None:\n",
    "        if afx_x_2017[x][4] > highest_closing_value:\n",
    "            highest_closing_value = afx_x_2017[x][4]\n",
    "            highest_closing_date = afx_x_2017[x][0]\n",
    "    \n",
    "        if afx_x_2017[x][4] < lowest_closing_value:\n",
    "            lowest_closing_value = afx_x_2017[x][4]\n",
    "            lowest_closing_date = afx_x_2017[x][0]  \n",
    "\n",
    "    # Find the total trading volume (to find the average later) for Task 6\n",
    "    if afx_x_2017[x][6] != None:\n",
    "        total_trading_volume += afx_x_2017[x][6]\n",
    "        total_days += 1\n",
    "\n",
    "        # Build a list of volume values for Task 7\n",
    "        just_volume.append(afx_x_2017[x][6])\n",
    "    "
   ]
  },
  {
   "cell_type": "code",
   "execution_count": 9,
   "metadata": {},
   "outputs": [
    {
     "data": {
      "text/plain": [
       "127.5"
      ]
     },
     "execution_count": 9,
     "metadata": {},
     "output_type": "execute_result"
    }
   ],
   "source": [
    "biggest_delta = highest_closing_value - lowest_closing_value\n",
    "average_volume = total_trading_volume / total_days\n",
    "\n",
    "just_volume.sort()\n",
    "vol_len = len(just_volume)/2\n",
    "vol_len\n"
   ]
  },
  {
   "cell_type": "code",
   "execution_count": 10,
   "metadata": {},
   "outputs": [
    {
     "name": "stdout",
     "output_type": "stream",
     "text": [
      "Task 3: The highest opening value was $ 53.11 on 2017-12-14 , the lowest opening value was $ 34.0 on 2017-01-24\n",
      "Task 4: The largest change in any one day was $ 2.8100000000000023 on 2017-05-11\n",
      "Task 5: The largest change between any two days is $ 19.03 between 2017-01-23 and 2017-12-13\n",
      "Task 6: The average trading volume in 2017 was 89124.33725490196\n",
      "Task 7: The median trading volume was 76286.0\n"
     ]
    }
   ],
   "source": [
    "# Print the solutions\n",
    "\n",
    "print('Task 3: The highest opening value was $', highest_opening_value, 'on', highest_opening_date, \n",
    "        ', the lowest opening value was $', lowest_opening_value, 'on', lowest_opening_date)\n",
    "print('Task 4: The largest change in any one day was $', biggest_daily_delta_value, 'on', biggest_daily_delta_date)\n",
    "print('Task 5: The largest change between any two days is $', biggest_delta, 'between', lowest_closing_date,\n",
    "     'and', highest_closing_date)\n",
    "print('Task 6: The average trading volume in 2017 was', average_volume)\n",
    "print('Task 7: The median trading volume was', just_volume[127])\n"
   ]
  },
  {
   "cell_type": "code",
   "execution_count": null,
   "metadata": {},
   "outputs": [],
   "source": []
  }
 ],
 "metadata": {
  "kernelspec": {
   "display_name": "Python 3",
   "language": "python",
   "name": "python3"
  },
  "language_info": {
   "codemirror_mode": {
    "name": "ipython",
    "version": 3
   },
   "file_extension": ".py",
   "mimetype": "text/x-python",
   "name": "python",
   "nbconvert_exporter": "python",
   "pygments_lexer": "ipython3",
   "version": "3.8.5"
  }
 },
 "nbformat": 4,
 "nbformat_minor": 2
}
